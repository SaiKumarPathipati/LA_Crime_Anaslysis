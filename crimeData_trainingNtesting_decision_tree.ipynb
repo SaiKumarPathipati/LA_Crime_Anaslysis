{
  "nbformat": 4,
  "nbformat_minor": 0,
  "metadata": {
    "colab": {
      "provenance": []
    },
    "kernelspec": {
      "name": "python3",
      "display_name": "Python 3"
    },
    "language_info": {
      "name": "python"
    }
  },
  "cells": [
    {
      "cell_type": "code",
      "execution_count": 1,
      "metadata": {
        "colab": {
          "base_uri": "https://localhost:8080/"
        },
        "id": "M9ZG8fDjYU1B",
        "outputId": "13a00f20-dcfa-4f74-f371-139aa00fa15d"
      },
      "outputs": [
        {
          "output_type": "stream",
          "name": "stdout",
          "text": [
            "Mounted at /content/drive\n"
          ]
        }
      ],
      "source": [
        "from google.colab import drive\n",
        "drive.mount('/content/drive')"
      ]
    },
    {
      "cell_type": "code",
      "source": [
        "import pandas as pd\n",
        "csvfile = '/content/drive/My Drive/updated_crime_dataset_2017-2021.csv'\n",
        "crime_dataset = pd.read_csv(csvfile)"
      ],
      "metadata": {
        "id": "UL2UmMwaj0mh"
      },
      "execution_count": 2,
      "outputs": []
    },
    {
      "cell_type": "code",
      "source": [
        "from sklearn.model_selection import train_test_split\n",
        "from sklearn.preprocessing import LabelEncoder, StandardScaler"
      ],
      "metadata": {
        "id": "Wrf_XDSxj2TO"
      },
      "execution_count": 3,
      "outputs": []
    },
    {
      "cell_type": "code",
      "source": [
        "# Select the relevant columns\n",
        "selected_columns = [\n",
        "    'AREA NAME', 'Rpt Dist No', 'Crm Cd Desc', 'Vict Age', 'Vict Sex',\n",
        "    'Vict Descent', 'Weapon Desc', 'Status Desc', 'LAT', 'LON'\n",
        "]\n",
        "crime_dataset = crime_dataset[selected_columns]"
      ],
      "metadata": {
        "id": "k0s9D79zkQC4"
      },
      "execution_count": 4,
      "outputs": []
    },
    {
      "cell_type": "code",
      "source": [
        "# Encode categorical variables\n",
        "label_encoder = LabelEncoder()\n",
        "categorical_columns = ['AREA NAME', 'Crm Cd Desc', 'Vict Sex', 'Vict Descent', 'Weapon Desc', 'Status Desc']\n",
        "for col in categorical_columns:\n",
        "    crime_dataset[col] = label_encoder.fit_transform(crime_dataset[col])\n",
        "\n",
        "# Split the data into features (X) and target (y)\n",
        "X = crime_dataset.drop('Vict Sex', axis=1)\n",
        "y = crime_dataset['Vict Sex']\n",
        "\n",
        "# Standardize numerical features\n",
        "scaler = StandardScaler()\n",
        "numerical_columns = ['Rpt Dist No', 'Vict Age', 'LAT', 'LON']\n",
        "X[numerical_columns] = scaler.fit_transform(X[numerical_columns])\n",
        "\n",
        "# Split the dataset into training and testing sets\n",
        "X_train, X_test, y_train, y_test = train_test_split(X, y, test_size=0.2, random_state=42)"
      ],
      "metadata": {
        "id": "gGqESNw8kR0Z"
      },
      "execution_count": 5,
      "outputs": []
    },
    {
      "cell_type": "code",
      "source": [
        "from sklearn.tree import DecisionTreeClassifier\n",
        "from sklearn.metrics import accuracy_score\n",
        "\n",
        "# Split the dataset into training and testing sets\n",
        "X_train, X_test, y_train, y_test = train_test_split(X, y, test_size=0.2, random_state=42)\n",
        "\n",
        "# Create and train the Decision Tree classifier\n",
        "dt_classifier = DecisionTreeClassifier()\n",
        "dt_classifier.fit(X_train, y_train)\n",
        "\n",
        "# Make predictions\n",
        "y_pred_dt = dt_classifier.predict(X_test)\n",
        "\n",
        "# Evaluate the model\n",
        "accuracy_dt = accuracy_score(y_test, y_pred_dt)\n",
        "print(\"Decision Tree Accuracy:\", accuracy_dt)"
      ],
      "metadata": {
        "colab": {
          "base_uri": "https://localhost:8080/"
        },
        "id": "NPWYvghgkTaF",
        "outputId": "b55f9886-1efd-4c0f-a56f-d74b4e88f0c1"
      },
      "execution_count": 6,
      "outputs": [
        {
          "output_type": "stream",
          "name": "stdout",
          "text": [
            "Decision Tree Accuracy: 0.622836334613658\n"
          ]
        }
      ]
    },
    {
      "cell_type": "code",
      "source": [
        "from sklearn.metrics import classification_report, confusion_matrix\n",
        "\n",
        "# Make predictions on the test set\n",
        "y_pred_test = dt_classifier.predict(X_test)\n",
        "\n",
        "# Evaluate the model using accuracy, classification report, and confusion matrix\n",
        "accuracy_test = accuracy_score(y_test, y_pred_test)\n",
        "print(\"Decision Tree Accuracy on Test Set:\", accuracy_test)\n",
        "\n",
        "# Generate and print the classification report\n",
        "class_report = classification_report(y_test, y_pred_test)\n",
        "print(\"Classification Report on Test Set:\\n\", class_report)\n",
        "\n",
        "# Generate and print the confusion matrix\n",
        "confusion_mat = confusion_matrix(y_test, y_pred_test)\n",
        "print(\"Confusion Matrix on Test Set:\\n\", confusion_mat)\n"
      ],
      "metadata": {
        "colab": {
          "base_uri": "https://localhost:8080/"
        },
        "id": "Vyrj9xlBk3aZ",
        "outputId": "8b7af379-b77a-4127-e4ac-02f369883d03"
      },
      "execution_count": 7,
      "outputs": [
        {
          "output_type": "stream",
          "name": "stdout",
          "text": [
            "Decision Tree Accuracy on Test Set: 0.622836334613658\n",
            "Classification Report on Test Set:\n",
            "               precision    recall  f1-score   support\n",
            "\n",
            "           1       0.57      0.58      0.58    113169\n",
            "           2       0.00      0.00      0.00        25\n",
            "           3       0.61      0.61      0.61    126465\n",
            "           4       0.00      0.00      0.00         2\n",
            "           5       0.95      0.95      0.95     20950\n",
            "\n",
            "    accuracy                           0.62    260611\n",
            "   macro avg       0.43      0.43      0.43    260611\n",
            "weighted avg       0.62      0.62      0.62    260611\n",
            "\n",
            "Confusion Matrix on Test Set:\n",
            " [[65605    10 47289     0   265]\n",
            " [   12     0    12     0     1]\n",
            " [48790     9 76848     3   815]\n",
            " [    2     0     0     0     0]\n",
            " [  259     0   826     0 19865]]\n"
          ]
        }
      ]
    }
  ]
}