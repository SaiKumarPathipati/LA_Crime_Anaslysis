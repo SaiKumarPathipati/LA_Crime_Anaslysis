{
  "nbformat": 4,
  "nbformat_minor": 0,
  "metadata": {
    "colab": {
      "provenance": []
    },
    "kernelspec": {
      "name": "python3",
      "display_name": "Python 3"
    },
    "language_info": {
      "name": "python"
    },
    "accelerator": "TPU"
  },
  "cells": [
    {
      "cell_type": "code",
      "execution_count": 1,
      "metadata": {
        "colab": {
          "base_uri": "https://localhost:8080/"
        },
        "id": "eOxtdo0lXyDg",
        "outputId": "c103b8f1-1e58-4347-a4e5-725e45cae224"
      },
      "outputs": [
        {
          "output_type": "stream",
          "name": "stdout",
          "text": [
            "Mounted at /content/drive\n"
          ]
        }
      ],
      "source": [
        "from google.colab import drive\n",
        "drive.mount('/content/drive')"
      ]
    },
    {
      "cell_type": "code",
      "source": [
        "import pandas as pd\n",
        "from sklearn.model_selection import train_test_split\n",
        "from sklearn.svm import SVC\n",
        "from sklearn.metrics import accuracy_score"
      ],
      "metadata": {
        "id": "nWhLNNG8X4YY"
      },
      "execution_count": 2,
      "outputs": []
    },
    {
      "cell_type": "code",
      "source": [
        "csvfile = '/content/drive/My Drive/updated_crime_dataset_2017-2023.csv'\n",
        "crime_dataset = pd.read_csv(csvfile)"
      ],
      "metadata": {
        "id": "g6t4cFuEX4VA"
      },
      "execution_count": 3,
      "outputs": []
    },
    {
      "cell_type": "code",
      "source": [
        "crime_dataset = crime_dataset.select_dtypes(include=['number'])"
      ],
      "metadata": {
        "id": "ImroNLpQX4Sx"
      },
      "execution_count": 4,
      "outputs": []
    },
    {
      "cell_type": "code",
      "source": [
        "crime_dataset.dropna(subset=['Crm Cd'], inplace=True)"
      ],
      "metadata": {
        "id": "cVCYO49pX4Qp"
      },
      "execution_count": 5,
      "outputs": []
    },
    {
      "cell_type": "code",
      "source": [
        "X = crime_dataset.drop(columns=['Vict Age'])\n",
        "y = crime_dataset['Vict Age']\n",
        "\n",
        "X_train, X_test, y_train, y_test = train_test_split(X, y, test_size=0.2, random_state = 1000)"
      ],
      "metadata": {
        "id": "bI1kIa2sX4Og"
      },
      "execution_count": 7,
      "outputs": []
    },
    {
      "cell_type": "code",
      "source": [
        "# Create an SVM classifier\n",
        "svm_model = SVC(kernel='linear')  # You can choose different kernel functions (e.g., 'linear', 'rbf', 'poly', etc.)"
      ],
      "metadata": {
        "id": "rtFVXcCbX4Ma"
      },
      "execution_count": 8,
      "outputs": []
    },
    {
      "cell_type": "code",
      "source": [
        "# Train the SVM model on the training data\n",
        "svm_model.fit(X_train, y_train)"
      ],
      "metadata": {
        "id": "rW-6JKBt-Ecf"
      },
      "execution_count": null,
      "outputs": []
    },
    {
      "cell_type": "code",
      "source": [
        "# Make predictions on the test data\n",
        "y_pred = svm_model.predict(X_test)\n",
        "print(f\"Prediction: {y_pred}\")\n",
        "\n",
        "# Calculate the accuracy of the model\n",
        "accuracy = accuracy_score(y_test, y_pred)\n",
        "\n",
        "print(f\"Accuracy: {accuracy * 100:.2f}%\")"
      ],
      "metadata": {
        "id": "lBc47LeJX4Hz"
      },
      "execution_count": null,
      "outputs": []
    }
  ]
}